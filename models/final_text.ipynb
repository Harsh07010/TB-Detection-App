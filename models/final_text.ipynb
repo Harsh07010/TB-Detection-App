{
 "cells": [
  {
   "cell_type": "code",
   "execution_count": 1,
   "id": "0b40c4fc",
   "metadata": {},
   "outputs": [],
   "source": [
    "import pandas as pd\n",
    "from sklearn.model_selection import train_test_split\n",
    "from sklearn.metrics import classification_report, accuracy_score\n",
    "from sklearn.ensemble import AdaBoostClassifier, GradientBoostingClassifier\n",
    "from xgboost import XGBClassifier\n",
    "from lightgbm import LGBMClassifier\n",
    "from catboost import CatBoostClassifier\n",
    "from sklearn.metrics import classification_report, accuracy_score, confusion_matrix"
   ]
  },
  {
   "cell_type": "code",
   "execution_count": 2,
   "id": "e2221f4f",
   "metadata": {},
   "outputs": [],
   "source": [
    "# Load dataset\n",
    "df = pd.read_csv(r\"C:\\Users\\hchau\\OneDrive\\Desktop\\TB TEXT\\final_dataset.csv\")"
   ]
  },
  {
   "cell_type": "code",
   "execution_count": 3,
   "id": "21ecc7d6",
   "metadata": {},
   "outputs": [
    {
     "data": {
      "text/html": [
       "<div>\n",
       "<style scoped>\n",
       "    .dataframe tbody tr th:only-of-type {\n",
       "        vertical-align: middle;\n",
       "    }\n",
       "\n",
       "    .dataframe tbody tr th {\n",
       "        vertical-align: top;\n",
       "    }\n",
       "\n",
       "    .dataframe thead th {\n",
       "        text-align: right;\n",
       "    }\n",
       "</style>\n",
       "<table border=\"1\" class=\"dataframe\">\n",
       "  <thead>\n",
       "    <tr style=\"text-align: right;\">\n",
       "      <th></th>\n",
       "      <th>Age</th>\n",
       "      <th>Past history of TB</th>\n",
       "      <th>Smoking</th>\n",
       "      <th>Diabetes</th>\n",
       "      <th>BMI less than equal to 18.5</th>\n",
       "      <th>TB in any Family member</th>\n",
       "      <th>Fever</th>\n",
       "      <th>Coughing up blood</th>\n",
       "      <th>Cough for more than 2 weeks</th>\n",
       "      <th>Weight loss</th>\n",
       "      <th>Night sweat</th>\n",
       "      <th>Chest Pain</th>\n",
       "      <th>Shortness of breath</th>\n",
       "      <th>Fatigue</th>\n",
       "      <th>Suspected TB</th>\n",
       "      <th>Unnamed: 15</th>\n",
       "    </tr>\n",
       "  </thead>\n",
       "  <tbody>\n",
       "    <tr>\n",
       "      <th>0</th>\n",
       "      <td>yes</td>\n",
       "      <td>no</td>\n",
       "      <td>yes</td>\n",
       "      <td>yes</td>\n",
       "      <td>yes</td>\n",
       "      <td>no</td>\n",
       "      <td>no</td>\n",
       "      <td>no</td>\n",
       "      <td>no</td>\n",
       "      <td>no</td>\n",
       "      <td>no</td>\n",
       "      <td>no</td>\n",
       "      <td>yes</td>\n",
       "      <td>yes</td>\n",
       "      <td>NO</td>\n",
       "      <td>NaN</td>\n",
       "    </tr>\n",
       "    <tr>\n",
       "      <th>1</th>\n",
       "      <td>no</td>\n",
       "      <td>yes</td>\n",
       "      <td>no</td>\n",
       "      <td>no</td>\n",
       "      <td>no</td>\n",
       "      <td>no</td>\n",
       "      <td>no</td>\n",
       "      <td>yes</td>\n",
       "      <td>yes</td>\n",
       "      <td>yes</td>\n",
       "      <td>yes</td>\n",
       "      <td>yes</td>\n",
       "      <td>yes</td>\n",
       "      <td>yes</td>\n",
       "      <td>YES</td>\n",
       "      <td>NaN</td>\n",
       "    </tr>\n",
       "    <tr>\n",
       "      <th>2</th>\n",
       "      <td>yes</td>\n",
       "      <td>no</td>\n",
       "      <td>no</td>\n",
       "      <td>yes</td>\n",
       "      <td>no</td>\n",
       "      <td>yes</td>\n",
       "      <td>no</td>\n",
       "      <td>yes</td>\n",
       "      <td>no</td>\n",
       "      <td>yes</td>\n",
       "      <td>no</td>\n",
       "      <td>no</td>\n",
       "      <td>yes</td>\n",
       "      <td>no</td>\n",
       "      <td>NO</td>\n",
       "      <td>NaN</td>\n",
       "    </tr>\n",
       "    <tr>\n",
       "      <th>3</th>\n",
       "      <td>yes</td>\n",
       "      <td>yes</td>\n",
       "      <td>yes</td>\n",
       "      <td>no</td>\n",
       "      <td>yes</td>\n",
       "      <td>no</td>\n",
       "      <td>no</td>\n",
       "      <td>yes</td>\n",
       "      <td>yes</td>\n",
       "      <td>no</td>\n",
       "      <td>yes</td>\n",
       "      <td>yes</td>\n",
       "      <td>no</td>\n",
       "      <td>yes</td>\n",
       "      <td>YES</td>\n",
       "      <td>NaN</td>\n",
       "    </tr>\n",
       "    <tr>\n",
       "      <th>4</th>\n",
       "      <td>yes</td>\n",
       "      <td>no</td>\n",
       "      <td>no</td>\n",
       "      <td>no</td>\n",
       "      <td>yes</td>\n",
       "      <td>yes</td>\n",
       "      <td>no</td>\n",
       "      <td>no</td>\n",
       "      <td>yes</td>\n",
       "      <td>no</td>\n",
       "      <td>no</td>\n",
       "      <td>no</td>\n",
       "      <td>yes</td>\n",
       "      <td>yes</td>\n",
       "      <td>YES</td>\n",
       "      <td>NaN</td>\n",
       "    </tr>\n",
       "  </tbody>\n",
       "</table>\n",
       "</div>"
      ],
      "text/plain": [
       "   Age Past history of TB Smoking Diabetes BMI less than equal to 18.5  \\\n",
       "0  yes                 no     yes      yes                         yes   \n",
       "1   no                yes      no       no                          no   \n",
       "2  yes                 no      no      yes                          no   \n",
       "3  yes                yes     yes       no                         yes   \n",
       "4  yes                 no      no       no                         yes   \n",
       "\n",
       "  TB in any Family member Fever Coughing up blood Cough for more than 2 weeks  \\\n",
       "0                      no    no                no                          no   \n",
       "1                      no    no               yes                         yes   \n",
       "2                     yes    no               yes                          no   \n",
       "3                      no    no               yes                         yes   \n",
       "4                     yes    no                no                         yes   \n",
       "\n",
       "  Weight loss Night sweat Chest Pain Shortness of breath Fatigue Suspected TB  \\\n",
       "0          no          no         no                 yes     yes           NO   \n",
       "1         yes         yes        yes                 yes     yes          YES   \n",
       "2         yes          no         no                 yes      no           NO   \n",
       "3          no         yes        yes                  no     yes          YES   \n",
       "4          no          no         no                 yes     yes          YES   \n",
       "\n",
       "   Unnamed: 15  \n",
       "0          NaN  \n",
       "1          NaN  \n",
       "2          NaN  \n",
       "3          NaN  \n",
       "4          NaN  "
      ]
     },
     "execution_count": 3,
     "metadata": {},
     "output_type": "execute_result"
    }
   ],
   "source": [
    "df.head()"
   ]
  },
  {
   "cell_type": "code",
   "execution_count": 4,
   "id": "328a8b6d",
   "metadata": {},
   "outputs": [
    {
     "data": {
      "text/plain": [
       "Index(['Age', 'Past history of TB', 'Smoking', 'Diabetes',\n",
       "       'BMI less than equal to 18.5', 'TB in any Family member', 'Fever',\n",
       "       'Coughing up blood', 'Cough for more than 2 weeks', 'Weight loss',\n",
       "       'Night sweat', 'Chest Pain', 'Shortness of breath', 'Fatigue',\n",
       "       'Suspected TB', 'Unnamed: 15'],\n",
       "      dtype='object')"
      ]
     },
     "execution_count": 4,
     "metadata": {},
     "output_type": "execute_result"
    }
   ],
   "source": [
    "df.columns"
   ]
  },
  {
   "cell_type": "code",
   "execution_count": 5,
   "id": "0361d25e",
   "metadata": {},
   "outputs": [
    {
     "data": {
      "text/plain": [
       "Index(['Age', 'Past history of TB', 'Smoking', 'Diabetes',\n",
       "       'BMI less than equal to 18.5', 'TB in any Family member', 'Fever',\n",
       "       'Coughing up blood', 'Cough for more than 2 weeks', 'Weight loss',\n",
       "       'Night sweat', 'Chest Pain', 'Shortness of breath', 'Fatigue',\n",
       "       'Suspected TB'],\n",
       "      dtype='object')"
      ]
     },
     "execution_count": 5,
     "metadata": {},
     "output_type": "execute_result"
    }
   ],
   "source": [
    "df=df.drop(columns='Unnamed: 15')\n",
    "df.columns"
   ]
  },
  {
   "cell_type": "code",
   "execution_count": 6,
   "id": "ff2f1da2",
   "metadata": {},
   "outputs": [],
   "source": [
    "# Features and target\n",
    "features = [\n",
    "    \"Age\", \"Past history of TB\", \"Smoking\", \"Diabetes\", \"BMI less than equal to 18.5\",\n",
    "    \"TB in any Family member\", \"Fever\", \"Coughing up blood\", \"Cough for more than 2 weeks\",\n",
    "    \"Weight loss\", \"Night sweat\", \"Chest Pain\", \"Shortness of breath\", \"Fatigue\"\n",
    "]"
   ]
  },
  {
   "cell_type": "code",
   "execution_count": 7,
   "id": "59f33d39",
   "metadata": {},
   "outputs": [],
   "source": [
    "X = df[features].map(lambda x: 1 if x == 'yes' else 0)\n",
    "y = df[\"Suspected TB\"].map({\"YES\": 1, \"NO\": 0})"
   ]
  },
  {
   "cell_type": "code",
   "execution_count": 8,
   "id": "7816ebe7",
   "metadata": {},
   "outputs": [
    {
     "data": {
      "text/plain": [
       "Suspected TB\n",
       "YES    559\n",
       "NO     441\n",
       "Name: count, dtype: int64"
      ]
     },
     "execution_count": 8,
     "metadata": {},
     "output_type": "execute_result"
    }
   ],
   "source": [
    "dd=df[\"Suspected TB\"].value_counts()\n",
    "dd"
   ]
  },
  {
   "cell_type": "code",
   "execution_count": 9,
   "id": "ceb4dc52",
   "metadata": {},
   "outputs": [],
   "source": [
    "# Train-test split\n",
    "X_train, X_test, y_train, y_test = train_test_split(X, y, test_size=0.2, random_state=42)"
   ]
  },
  {
   "cell_type": "code",
   "execution_count": 10,
   "id": "31b7e564",
   "metadata": {},
   "outputs": [
    {
     "name": "stdout",
     "output_type": "stream",
     "text": [
      "\n",
      "=== AdaBoost ===\n",
      "              precision    recall  f1-score   support\n",
      "\n",
      "           0       0.94      0.93      0.93        85\n",
      "           1       0.95      0.96      0.95       115\n",
      "\n",
      "    accuracy                           0.94       200\n",
      "   macro avg       0.94      0.94      0.94       200\n",
      "weighted avg       0.94      0.94      0.94       200\n",
      "\n",
      "Test Accuracy: 0.945\n",
      "Training Accuracy: 0.9575\n",
      "Confusion Matrix:\n",
      " [[ 79   6]\n",
      " [  5 110]]\n"
     ]
    },
    {
     "name": "stderr",
     "output_type": "stream",
     "text": [
      "C:\\Users\\hchau\\AppData\\Roaming\\Python\\Python312\\site-packages\\sklearn\\ensemble\\_weight_boosting.py:527: FutureWarning: The SAMME.R algorithm (the default) is deprecated and will be removed in 1.6. Use the SAMME algorithm to circumvent this warning.\n",
      "  warnings.warn(\n"
     ]
    }
   ],
   "source": [
    "# 1. AdaBoost\n",
    "print(\"\\n=== AdaBoost ===\")\n",
    "model = AdaBoostClassifier(n_estimators=100, random_state=42)\n",
    "model.fit(X_train, y_train)\n",
    "y_pred_ada = model.predict(X_test)\n",
    "y_train_pred_ada = model.predict(X_train)\n",
    "\n",
    "\n",
    "# Evaluation\n",
    "print(classification_report(y_test, y_pred_ada))\n",
    "print(\"Test Accuracy:\", accuracy_score(y_test, y_pred_ada))\n",
    "print(\"Training Accuracy:\", accuracy_score(y_train, y_train_pred_ada))\n",
    "print(\"Confusion Matrix:\\n\", confusion_matrix(y_test, y_pred_ada))"
   ]
  },
  {
   "cell_type": "code",
   "execution_count": 11,
   "id": "71a9f369",
   "metadata": {},
   "outputs": [
    {
     "data": {
      "text/plain": [
       "['final_text_model.pkl']"
      ]
     },
     "execution_count": 11,
     "metadata": {},
     "output_type": "execute_result"
    }
   ],
   "source": [
    "import joblib\n",
    "\n",
    "# Save the model\n",
    "joblib.dump(model, 'final_text_model.pkl')\n"
   ]
  },
  {
   "cell_type": "code",
   "execution_count": null,
   "id": "affc130d",
   "metadata": {},
   "outputs": [],
   "source": []
  },
  {
   "cell_type": "code",
   "execution_count": null,
   "id": "3cc579ba",
   "metadata": {},
   "outputs": [],
   "source": []
  },
  {
   "cell_type": "code",
   "execution_count": null,
   "id": "b023ba40",
   "metadata": {},
   "outputs": [],
   "source": []
  }
 ],
 "metadata": {
  "kernelspec": {
   "display_name": "base",
   "language": "python",
   "name": "python3"
  },
  "language_info": {
   "codemirror_mode": {
    "name": "ipython",
    "version": 3
   },
   "file_extension": ".py",
   "mimetype": "text/x-python",
   "name": "python",
   "nbconvert_exporter": "python",
   "pygments_lexer": "ipython3",
   "version": "3.12.7"
  }
 },
 "nbformat": 4,
 "nbformat_minor": 5
}
